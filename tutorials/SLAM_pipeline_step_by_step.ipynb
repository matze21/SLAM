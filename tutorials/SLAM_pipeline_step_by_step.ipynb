{
 "cells": [
  {
   "cell_type": "markdown",
   "metadata": {
    "vscode": {
     "languageId": "raw"
    }
   },
   "source": [
    "### SLAM Outline Step by Step:\n",
    "\n",
    "- feature extraction\n",
    "- feature matching\n",
    "- camera pose estimation\n",
    "- triangulation for 3D mapping"
   ]
  },
  {
   "cell_type": "markdown",
   "metadata": {},
   "source": [
    "## Imports"
   ]
  },
  {
   "cell_type": "code",
   "execution_count": null,
   "metadata": {},
   "outputs": [],
   "source": [
    "import cv2\n",
    "import os\n",
    "import numpy as np\n",
    "import matplotlib.pyplot as plt"
   ]
  },
  {
   "cell_type": "markdown",
   "metadata": {},
   "source": [
    "## feature extraction"
   ]
  },
  {
   "cell_type": "code",
   "execution_count": null,
   "metadata": {},
   "outputs": [],
   "source": [
    "\n",
    "\n",
    "# Load the image\n",
    "image = cv2.imread('../data/data_odometry_gray/dataset/sequences/00/image_0/000000.png', cv2.IMREAD_GRAYSCALE)\n",
    "\n",
    "# Initialize the ORB detector\n",
    "orb = cv2.ORB_create(nfeatures=5000)\n",
    "\n",
    "# Detect keypoints and compute descriptors\n",
    "keypoints, descriptors = orb.detectAndCompute(image, None)\n",
    "\n",
    "# Draw the keypoints on the image\n",
    "image_with_keypoints = cv2.drawKeypoints(image, keypoints, None, color=(0, 255, 0), flags=0)\n",
    "\n",
    "# Display the image with keypoints\n",
    "plt.figure(figsize=(10, 10))\n",
    "plt.imshow(image_with_keypoints, cmap='gray')\n",
    "plt.title('ORB Keypoints')\n",
    "plt.show()\n"
   ]
  },
  {
   "cell_type": "markdown",
   "metadata": {},
   "source": [
    "## feature matching"
   ]
  },
  {
   "cell_type": "code",
   "execution_count": null,
   "metadata": {},
   "outputs": [],
   "source": [
    "# Load the initial image (frame I)\n",
    "image1 = cv2.imread('../data/data_odometry_gray/dataset/sequences/00/image_0/000000.png', cv2.IMREAD_GRAYSCALE)\n",
    "\n",
    "# Load the subsequent image (frame I+1)\n",
    "image2 = cv2.imread('../data/data_odometry_gray/dataset/sequences/00/image_0/000003.png', cv2.IMREAD_GRAYSCALE)\n",
    "\n",
    "# Initialize the ORB detector\n",
    "orb = cv2.ORB_create(nfeatures=10000)\n",
    "\n",
    "# Detect keypoints and compute descriptors for the first image\n",
    "keypoints1, descriptors1 = orb.detectAndCompute(image1, None)\n",
    "\n",
    "# Detect keypoints and compute descriptors for the second image\n",
    "keypoints2, descriptors2 = orb.detectAndCompute(image2, None)\n",
    "\n",
    "# Initialize the BFMatcher with default params\n",
    "bf = cv2.BFMatcher(cv2.NORM_HAMMING, crossCheck=True)\n",
    "\n",
    "# Match descriptors\n",
    "matches = bf.match(descriptors1, descriptors2)\n",
    "\n",
    "# Sort matches by distance (best matches first)\n",
    "matches = sorted(matches, key=lambda x: x.distance)\n",
    "\n",
    "# Draw the top N matches (for example, the top 50 matches)\n",
    "top_matches = matches[:50]\n",
    "matched_image = cv2.drawMatches(image1, keypoints1, image2, keypoints2, top_matches, None, flags=cv2.DrawMatchesFlags_NOT_DRAW_SINGLE_POINTS)\n",
    "\n",
    "# Display the image with matches\n",
    "plt.figure(figsize=(20, 15))\n",
    "plt.imshow(matched_image)\n",
    "plt.title('ORB Feature Matches between Frame I and Frame I+1')\n",
    "plt.show()\n",
    "\n",
    "# Optionally, extract the matched points\n",
    "matched_points1 = np.float32([keypoints1[m.queryIdx].pt for m in matches])\n",
    "matched_points2 = np.float32([keypoints2[m.trainIdx].pt for m in matches])\n",
    "\n",
    "# Print the coordinates of the matched points\n",
    "print(\"Matched points in frame I:\")\n",
    "print(matched_points1)\n",
    "print(\"Matched points in frame I+1:\")\n",
    "print(matched_points2)\n"
   ]
  },
  {
   "cell_type": "markdown",
   "metadata": {},
   "source": [
    "## pose estimation:"
   ]
  },
  {
   "cell_type": "code",
   "execution_count": null,
   "metadata": {},
   "outputs": [],
   "source": [
    "# pose estimation\n",
    "K = np.array([[3177.000, 0, 1632.000],\n",
    "            [0, 3177.00, 1224.00],\n",
    "            [0, 0, 1]])\n",
    "\n",
    "\n",
    "# Optionally, extract the matched points\n",
    "pts1 = np.float32([keypoints1[m.queryIdx].pt for m in matches])\n",
    "pts2 = np.float32([keypoints2[m.trainIdx].pt for m in matches])\n",
    "\n",
    "# Compute the Fundamental matrix using RANSAC\n",
    "F, inliers = cv2.findFundamentalMat(pts1, pts2, cv2.FM_RANSAC)\n",
    "\n",
    "# Select inlier points\n",
    "pts1_inliers = pts1[inliers.ravel() == 1]\n",
    "pts2_inliers = pts2[inliers.ravel() == 1]\n",
    "\n",
    "# estimate essential matrix\n",
    "E = K.T @ F @ K\n",
    "\n",
    "_, R, t, mask = cv2.recoverPose(E, pts1_inliers, pts2_inliers, K)\n",
    "\n",
    "print(\"Rotation matrix R:\")\n",
    "print(R)\n",
    "print(\"Translation vector t:\")\n",
    "print(t)"
   ]
  },
  {
   "cell_type": "markdown",
   "metadata": {},
   "source": [
    "## Triangulation for 3D Mapping:"
   ]
  },
  {
   "cell_type": "code",
   "execution_count": null,
   "metadata": {},
   "outputs": [],
   "source": [
    "def add_ones(x):\n",
    "    return np.concatenate([x, np.ones((x.shape[0], 1))], axis=1)\n",
    "\n",
    "T = np.eye(4) \n",
    "T[0:3,0:3] = R\n",
    "T[0:3,3] = t.T\n",
    "Kinv = np.linalg.inv(K)\n",
    "pose1 = np.eye(4)\n",
    "pose2 = np.eye(4) @ T\n",
    "\n",
    "# Optionally, extract the matched points\n",
    "pts1 = np.float32([keypoints1[m.queryIdx].pt for m in matches])\n",
    "pts2 = np.float32([keypoints2[m.trainIdx].pt for m in matches])\n",
    "\n",
    "\n",
    "\n",
    "ret = np.zeros((pts1.shape[0], 4))\n",
    "pose1 = np.linalg.inv(pose1)\n",
    "pose2 = np.linalg.inv(pose2)\n",
    "for i, p in enumerate(zip(add_ones(pts1), \n",
    "                          add_ones(pts2))):\n",
    "    A = np.zeros((4, 4))\n",
    "    A[0] = p[0][0] * pose1[2] - pose1[0]\n",
    "    A[1] = p[0][1] * pose1[2] - pose1[1]\n",
    "    A[2] = p[1][0] * pose2[2] - pose2[0]\n",
    "    A[3] = p[1][1] * pose2[2] - pose2[1]\n",
    "    _, _, vt = np.linalg.svd(A)\n",
    "    ret[i] = vt[3]\n",
    "\n",
    "ret /= ret[:, 3:]\n",
    "good_pts4d =   (np.abs(ret[:, 3]) > 0.005) & (ret[:, 2] > 0)\n",
    "\n",
    "mapp_pts = [p for i, p in enumerate(ret) if good_pts4d[i]]\n",
    "\n",
    "\n"
   ]
  },
  {
   "cell_type": "markdown",
   "metadata": {},
   "source": [
    "## Save Map in a File "
   ]
  },
  {
   "cell_type": "code",
   "execution_count": null,
   "metadata": {},
   "outputs": [],
   "source": [
    "import open3d as o3d\n",
    "import numpy as np\n",
    "\n",
    "# Assume mapp_pts is a list of 3D points obtained from the previous code\n",
    "mapp_pts = np.array(mapp_pts)  # Convert to a NumPy array if it's not already\n",
    "\n",
    "# Create a PointCloud object\n",
    "pcd = o3d.geometry.PointCloud()\n",
    "\n",
    "# Convert the NumPy array to Open3D format\n",
    "pcd.points = o3d.utility.Vector3dVector(mapp_pts[:, :3])\n",
    "\n",
    "# Create an array of white colors\n",
    "colors = np.zeros((mapp_pts.shape[0], 3))\n",
    "colors[:, 1] = 1  # Set the green channel to 1\n",
    "\n",
    "# Assign the colors to the point cloud\n",
    "pcd.colors = o3d.utility.Vector3dVector(colors)\n",
    "\n",
    "# Save the point cloud to a .pcd file\n",
    "o3d.io.write_point_cloud(\"points_colored_structurev2.ply\", pcd)"
   ]
  },
  {
   "cell_type": "code",
   "execution_count": null,
   "metadata": {},
   "outputs": [],
   "source": []
  }
 ],
 "metadata": {
  "kernelspec": {
   "display_name": "slam_env",
   "language": "python",
   "name": "python3"
  },
  "language_info": {
   "codemirror_mode": {
    "name": "ipython",
    "version": 3
   },
   "file_extension": ".py",
   "mimetype": "text/x-python",
   "name": "python",
   "nbconvert_exporter": "python",
   "pygments_lexer": "ipython3",
   "version": "3.10.12"
  }
 },
 "nbformat": 4,
 "nbformat_minor": 2
}
