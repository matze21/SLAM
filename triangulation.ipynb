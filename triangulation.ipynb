{
 "cells": [
  {
   "cell_type": "code",
   "execution_count": null,
   "metadata": {},
   "outputs": [],
   "source": [
    "import os\n",
    "import numpy as np\n",
    "import pandas as pd\n",
    "import matplotlib.pyplot as plt\n",
    "import cv2\n",
    "from scipy.spatial.transform import Rotation"
   ]
  },
  {
   "cell_type": "markdown",
   "metadata": {},
   "source": [
    "# load data"
   ]
  },
  {
   "cell_type": "code",
   "execution_count": null,
   "metadata": {},
   "outputs": [],
   "source": [
    "folder_path='sample_data/Room_back_home-2024-12-29_19-50-26/'\n",
    "folder_path_img = folder_path+'/Camera'\n",
    "\n",
    "gyro = pd.read_csv(folder_path+'Gyroscope.csv')\n",
    "gyro['time_diff_s'] = gyro['time'].diff().fillna(0) / 1e9\n",
    "gyro['roll'] = (gyro['x']*gyro['time_diff_s']).cumsum()\n",
    "gyro['pitch'] = (gyro['y']*gyro['time_diff_s']).cumsum()\n",
    "gyro['yaw'] = (gyro['z']*gyro['time_diff_s']).cumsum()\n",
    "gyro.drop(['x','y','z'],axis=1,inplace=True)\n",
    "\n",
    "acc = pd.read_csv(folder_path+'/Accelerometer.csv')\n",
    "\n",
    "motion = pd.merge(gyro, acc, on=['time','seconds_elapsed'],how='inner')\n",
    "motion.rename(columns={'x': 'ax','y': 'ay','z': 'az'}, inplace=True)\n",
    "\n",
    "\n",
    "image_filenames = sorted(os.listdir(folder_path_img))[1:-1]\n",
    "image_timestamps = [float(filename.split('.')[0]) for filename in image_filenames] \n",
    "\n",
    "def synchronize_data(imu_data, image_timestamps):\n",
    "    synchronized_data = []\n",
    "    for img_time in image_timestamps:\n",
    "        # Find closest IMU timestamp\n",
    "        closest_imu_index = (np.abs(imu_data['time'] - img_time*1e6)).argmin()\n",
    "        synchronized_data.append({\n",
    "            'image_time': img_time,\n",
    "            'imu_roll': imu_data.iloc[closest_imu_index]['roll'],\n",
    "            'imu_pitch': imu_data.iloc[closest_imu_index]['pitch'],\n",
    "            'imu_yaw': imu_data.iloc[closest_imu_index]['yaw'],\n",
    "            'imu_ax': imu_data.iloc[closest_imu_index]['ax'],\n",
    "            'imu_ay': imu_data.iloc[closest_imu_index]['ay'],\n",
    "            'imu_az': imu_data.iloc[closest_imu_index]['az'],\n",
    "            'image_path': os.path.join(folder_path_img, image_filenames[image_timestamps.index(img_time)])\n",
    "        })\n",
    "    return pd.DataFrame(synchronized_data)\n",
    "\n",
    "synchronized_synchronized_df = synchronize_data(motion, image_timestamps)\n",
    "synchronized_synchronized_df['time_diff_s'] = synchronized_synchronized_df['image_time'].diff().fillna(0) / 1e3"
   ]
  },
  {
   "cell_type": "code",
   "execution_count": null,
   "metadata": {},
   "outputs": [],
   "source": [
    "synchronized_synchronized_df.head()"
   ]
  },
  {
   "cell_type": "code",
   "execution_count": null,
   "metadata": {},
   "outputs": [],
   "source": [
    "# Step 4: Pose Estimation from IMU Data\n",
    "def compute_pose_from_imu(roll, pitch, yaw, ax,ay,az, dt):\n",
    "    # Create rotation matrix from Euler angles\n",
    "    R_x = np.array([[1, 0, 0],\n",
    "                    [0, np.cos(roll), -np.sin(roll)],\n",
    "                    [0, np.sin(roll), np.cos(roll)]])\n",
    "    \n",
    "    R_y = np.array([[np.cos(pitch), 0, np.sin(pitch)],\n",
    "                    [0, 1, 0],\n",
    "                    [-np.sin(pitch), 0, np.cos(pitch)]])\n",
    "    \n",
    "    R_z = np.array([[np.cos(yaw), -np.sin(yaw), 0],\n",
    "                    [np.sin(yaw), np.cos(yaw), 0],\n",
    "                    [0, 0, 1]])\n",
    "\n",
    "    # Combined rotation matrix\n",
    "    R = R_z @ R_y @ R_x\n",
    "\n",
    "    # Integrate acceleration to get velocity\n",
    "    velocity_change = np.array([ax * dt, ay * dt, az * dt])\n",
    "    \n",
    "    # Transform velocity change into global frame using rotation matrix\n",
    "    global_velocity_change = R @ velocity_change\n",
    "    \n",
    "    return R, global_velocity_change\n",
    "    "
   ]
  },
  {
   "cell_type": "code",
   "execution_count": null,
   "metadata": {},
   "outputs": [],
   "source": [
    "trajectory = []\n",
    "velocity = np.zeros(3)  # Initialize velocity\n",
    "\n",
    "for index in range(len(synchronized_synchronized_df)):\n",
    "    roll = synchronized_synchronized_df.iloc[index]['imu_roll']\n",
    "    pitch = synchronized_synchronized_df.iloc[index]['imu_pitch']\n",
    "    yaw = synchronized_synchronized_df.iloc[index]['imu_yaw']\n",
    "\n",
    "    dt = synchronized_synchronized_df.iloc[index]['time_diff_s']\n",
    "    \n",
    "    # Get IMU acceleration data\n",
    "    ax = synchronized_synchronized_df.iloc[index]['imu_ax']\n",
    "    ay = synchronized_synchronized_df.iloc[index]['imu_ay']\n",
    "    az = synchronized_synchronized_df.iloc[index]['imu_az']\n",
    "\n",
    "    # Compute pose from IMU data\n",
    "    R, velocity_change = compute_pose_from_imu(roll, pitch, yaw, ax, ay, az, dt)\n",
    "    \n",
    "    # Update velocity based on acceleration (integrate)\n",
    "    velocity += velocity_change\n",
    "    \n",
    "    if index == 0:\n",
    "        current_position = np.zeros(3)  # Initial position at origin\n",
    "    else:\n",
    "        current_position += velocity * dt  # Integrate velocity to get position\n",
    "    \n",
    "    trajectory.append(current_position.copy())\n",
    "trajectory = np.array(trajectory)\n",
    "synchronized_synchronized_df['x']=trajectory[:,0]\n",
    "synchronized_synchronized_df['y']=trajectory[:,1]\n",
    "synchronized_synchronized_df['z']=trajectory[:,2]"
   ]
  },
  {
   "cell_type": "code",
   "execution_count": null,
   "metadata": {},
   "outputs": [],
   "source": [
    "synchronized_synchronized_df"
   ]
  },
  {
   "cell_type": "markdown",
   "metadata": {},
   "source": [
    "# triangulation"
   ]
  },
  {
   "cell_type": "code",
   "execution_count": null,
   "metadata": {},
   "outputs": [],
   "source": [
    "def load_image(path):\n",
    "    return cv2.imread(path, cv2.IMREAD_GRAYSCALE)\n",
    "\n",
    "def detect_and_describe(image):\n",
    "    sift = cv2.SIFT_create()\n",
    "    keypoints, descriptors = sift.detectAndCompute(image, None)\n",
    "    return keypoints, descriptors\n",
    "\n",
    "def match_features(desc1, desc2):\n",
    "    bf = cv2.BFMatcher()\n",
    "    matches = bf.knnMatch(desc1, desc2, k=2)\n",
    "    good = []\n",
    "    for m, n in matches:\n",
    "        if m.distance < 0.75 * n.distance:\n",
    "            good.append(m)\n",
    "    return good\n",
    "\n",
    "def linear_triangulation(p1, p2, P1, P2):\n",
    "    num_points = p1.shape[1]\n",
    "    A = np.zeros((4*num_points, 4))\n",
    "    for i in range(num_points):\n",
    "        x1, y1 = p1[0:2, i]\n",
    "        x2, y2 = p2[0:2, i]\n",
    "        A[4*i] = x1*P1[2] - P1[0]\n",
    "        A[4*i+1] = y1*P1[2] - P1[1]\n",
    "        A[4*i+2] = x2*P2[2] - P2[0]\n",
    "        A[4*i+3] = y2*P2[2] - P2[1]\n",
    "    \n",
    "    _, _, Vt = np.linalg.svd(A)\n",
    "    X = Vt[-1, :3] #/ Vt[-1, 3]\n",
    "    return X"
   ]
  },
  {
   "cell_type": "code",
   "execution_count": null,
   "metadata": {},
   "outputs": [],
   "source": [
    "K = np.array([[730, 0, 620], [0, 730, 360], [0, 0, 1]])  # Example values\n",
    "\n",
    "all_3d_points = []\n",
    "\n",
    "for i in range(len(synchronized_df) - 1):\n",
    "    img1 = load_image(synchronized_df.iloc[i]['image_path'])\n",
    "    img2 = load_image(synchronized_df.iloc[i+1]['image_path'])\n",
    "    \n",
    "    kp1, desc1 = detect_and_describe(img1)\n",
    "    kp2, desc2 = detect_and_describe(img2)\n",
    "    \n",
    "    matches = match_features(desc1, desc2)\n",
    "    \n",
    "    R1 = Rotation.from_euler('xyz', [synchronized_df.iloc[i]['imu_roll'], synchronized_df.iloc[i]['imu_pitch'], synchronized_df.iloc[i]['imu_yaw']]).as_matrix()\n",
    "    t1 = np.array([synchronized_df.iloc[i]['x'], synchronized_df.iloc[i]['y'], synchronized_df.iloc[i]['z']])\n",
    "    R2 = Rotation.from_euler('xyz', [synchronized_df.iloc[i+1]['imu_roll'], synchronized_df.iloc[i+1]['imu_pitch'], synchronized_df.iloc[i+1]['imu_yaw']]).as_matrix()\n",
    "    t2 = np.array([synchronized_df.iloc[i+1]['x'], synchronized_df.iloc[i+1]['y'], synchronized_df.iloc[i+1]['z']])\n",
    "    \n",
    "    P1 = K @ np.hstack((R1, t1.reshape(3, 1)))\n",
    "    P2 = K @ np.hstack((R2, t2.reshape(3, 1)))\n",
    "    \n",
    "    points1 = np.array([kp1[m.queryIdx].pt for m in matches]).T[:,0:1]\n",
    "    points2 = np.array([kp2[m.trainIdx].pt for m in matches]).T[:,0:1]\n",
    "    \n",
    "    # Normalize the points\n",
    "    points1_norm = np.linalg.inv(K) @ np.vstack((points1, np.ones(points1.shape[1])))\n",
    "    points2_norm = np.linalg.inv(K) @ np.vstack((points2, np.ones(points2.shape[1])))\n",
    "    \n",
    "    # Triangulate all points simultaneously\n",
    "    points_3d = linear_triangulation(points1_norm, points2_norm, P1, P2)\n",
    "    \n",
    "    all_3d_points.extend(points_3d)\n",
    "    break\n",
    "\n",
    "all_3d_points = np.array(all_3d_points)"
   ]
  },
  {
   "cell_type": "code",
   "execution_count": null,
   "metadata": {},
   "outputs": [],
   "source": [
    "points_3d,points1,points2"
   ]
  },
  {
   "cell_type": "code",
   "execution_count": null,
   "metadata": {},
   "outputs": [],
   "source": []
  }
 ],
 "metadata": {
  "kernelspec": {
   "display_name": "base",
   "language": "python",
   "name": "python3"
  },
  "language_info": {
   "codemirror_mode": {
    "name": "ipython",
    "version": 3
   },
   "file_extension": ".py",
   "mimetype": "text/x-python",
   "name": "python",
   "nbconvert_exporter": "python",
   "pygments_lexer": "ipython3",
   "version": "3.11.5"
  }
 },
 "nbformat": 4,
 "nbformat_minor": 2
}
