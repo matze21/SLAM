{
 "cells": [
  {
   "cell_type": "code",
   "execution_count": null,
   "metadata": {},
   "outputs": [],
   "source": [
    "import pandas as pd\n",
    "import numpy as np\n",
    "import matplotlib.pyplot as plt\n",
    "import plotly.graph_objs as go"
   ]
  },
  {
   "cell_type": "markdown",
   "metadata": {},
   "source": [
    "# accelerometer data\n",
    "\n",
    "- use calibrated data to set values in beginning to 0\n",
    "- that way we loose the gravity vector"
   ]
  },
  {
   "cell_type": "code",
   "execution_count": null,
   "metadata": {},
   "outputs": [],
   "source": [
    "acc = pd.read_csv('/Users/matthiaskargl/Codes/SLAM/sample_data/2024-11-09_15-06-37/Accelerometer.csv')"
   ]
  },
  {
   "cell_type": "code",
   "execution_count": null,
   "metadata": {},
   "outputs": [],
   "source": [
    "fig=plt.figure()\n",
    "acc['z'].plot()\n",
    "acc['y'].plot()\n",
    "acc['x'].plot()\n",
    "plt.legend()"
   ]
  },
  {
   "cell_type": "code",
   "execution_count": null,
   "metadata": {},
   "outputs": [],
   "source": [
    "grav = pd.read_csv('/Users/matthiaskargl/Codes/SLAM/sample_data/2024-11-09_15-06-37/Gravity.csv')"
   ]
  },
  {
   "cell_type": "code",
   "execution_count": null,
   "metadata": {},
   "outputs": [],
   "source": [
    "grav['z'].plot()\n",
    "grav['y'].plot()\n",
    "grav['x'].plot()"
   ]
  },
  {
   "cell_type": "markdown",
   "metadata": {},
   "source": [
    "# gyroscope data\n",
    "\n",
    "- raw data is better than reconstructed angles\n",
    "- use calibrated data to set values in beginning to 0"
   ]
  },
  {
   "cell_type": "code",
   "execution_count": null,
   "metadata": {},
   "outputs": [],
   "source": [
    "gyro = pd.read_csv('/Users/matthiaskargl/Codes/SLAM/sample_data/2024-11-09_15-06-37/Gyroscope.csv')"
   ]
  },
  {
   "cell_type": "code",
   "execution_count": null,
   "metadata": {},
   "outputs": [],
   "source": [
    "gyro['time_diff_s'] = gyro['time'].diff().fillna(0) / 1e9\n",
    "gyro['integral_x'] = (gyro['x']*gyro['time_diff_s']).cumsum()\n",
    "gyro['integral_y'] = (gyro['y']*gyro['time_diff_s']).cumsum()\n",
    "gyro['integral_z'] = (gyro['z']*gyro['time_diff_s']).cumsum()"
   ]
  },
  {
   "cell_type": "code",
   "execution_count": null,
   "metadata": {},
   "outputs": [],
   "source": [
    "gyro"
   ]
  },
  {
   "cell_type": "code",
   "execution_count": null,
   "metadata": {},
   "outputs": [],
   "source": [
    "fig = plt.figure()\n",
    "gyro['x'].plot()\n",
    "gyro['y'].plot()\n",
    "gyro['z'].plot()\n",
    "fig.legend()\n",
    "\n",
    "fig1 = plt.figure()\n",
    "gyro['integral_x'].plot()\n",
    "gyro['integral_y'].plot()\n",
    "gyro['integral_z'].plot()\n",
    "fig1.legend()"
   ]
  },
  {
   "cell_type": "code",
   "execution_count": null,
   "metadata": {},
   "outputs": [],
   "source": [
    "ori = pd.read_csv('/Users/matthiaskargl/Codes/SLAM/sample_data/2024-11-09_15-06-37/Orientation.csv')\n",
    "ori['yaw'].plot()\n",
    "ori['roll'].plot()\n",
    "ori['pitch'].plot()"
   ]
  },
  {
   "cell_type": "code",
   "execution_count": null,
   "metadata": {},
   "outputs": [],
   "source": [
    "ori"
   ]
  },
  {
   "cell_type": "code",
   "execution_count": null,
   "metadata": {},
   "outputs": [],
   "source": [
    "gyro"
   ]
  },
  {
   "cell_type": "markdown",
   "metadata": {},
   "source": [
    "# double integration"
   ]
  },
  {
   "cell_type": "code",
   "execution_count": null,
   "metadata": {},
   "outputs": [],
   "source": [
    "def integrate_gyro(gyro_data, dt):\n",
    "    rotation = np.array([0, 0, 0])\n",
    "    for gyro in gyro_data:\n",
    "        rotation += gyro * dt\n",
    "    return rotation\n",
    "\n",
    "def integrate_accel(accel_data, dt):\n",
    "    velocity = np.array([0, 0, 0])\n",
    "    position = np.array([0, 0, 0])\n",
    "    for accel in accel_data:\n",
    "        velocity += accel * dt\n",
    "        position += velocity * dt\n",
    "    return position\n"
   ]
  },
  {
   "cell_type": "code",
   "execution_count": null,
   "metadata": {},
   "outputs": [],
   "source": [
    "def doubleIntegrate(df):\n",
    "    df = df.copy()\n",
    "    if 'ax' in df.columns:\n",
    "        df.drop('ax',axis=1,inplace=True)\n",
    "    if 'az' in df.columns:\n",
    "        df.drop('az',axis=1,inplace=True)\n",
    "    if 'ay' in df.columns:\n",
    "        df.drop('ay',axis=1,inplace=True)\n",
    "    df.rename(columns={'x': 'ax','y': 'ay','z': 'az'}, inplace=True)\n",
    "    df['time_diff_s'] = df['time'].diff().fillna(0) / 1e9\n",
    "    df['vx'] = df['ax'].cumsum()*df['time_diff_s']\n",
    "    df['x'] = df['vx'].cumsum()*df['time_diff_s']\n",
    "\n",
    "    df['vy'] = df['ay'].cumsum()*df['time_diff_s']\n",
    "    df['y'] = df['vy'].cumsum()*df['time_diff_s']\n",
    "\n",
    "    df['vz'] = df['az'].cumsum()*df['time_diff_s']\n",
    "    df['z'] = df['vz'].cumsum()*df['time_diff_s']\n",
    "    return df"
   ]
  },
  {
   "cell_type": "code",
   "execution_count": null,
   "metadata": {},
   "outputs": [],
   "source": [
    "gyro2 = doubleIntegrate(gyro)\n",
    "gyro2[['vx','vy','vz']].plot()"
   ]
  },
  {
   "cell_type": "code",
   "execution_count": null,
   "metadata": {},
   "outputs": [],
   "source": [
    "grav2 = doubleIntegrate(grav)\n",
    "grav2[['x','y','z']].plot()"
   ]
  },
  {
   "cell_type": "code",
   "execution_count": null,
   "metadata": {},
   "outputs": [],
   "source": [
    "grav"
   ]
  },
  {
   "cell_type": "markdown",
   "metadata": {},
   "source": [
    "# reconstruct location in 3D with precalculated yaw,pitch,roll and gravity"
   ]
  },
  {
   "cell_type": "code",
   "execution_count": null,
   "metadata": {},
   "outputs": [],
   "source": [
    "ori = pd.read_csv('/Users/matthiaskargl/Codes/SLAM/sample_data/2024-11-09_15-06-37/Orientation.csv')\n",
    "ori.rename(columns={'yaw': 'pitchn','roll': 'yawn','pitch':'rolln'}, inplace=True)\n",
    "ori.rename(columns={'rolln': 'roll','pitchn':'pitch','yawn':'yaw'}, inplace=True)\n",
    "\n",
    "fig = plt.figure()\n",
    "ori['yaw'].plot() # = pitch_new\n",
    "ori['roll'].plot() #yaw_new\n",
    "ori['pitch'].plot() #=roll_new\n",
    "fig.legend()\n",
    "\n",
    "# around y = pitch\n",
    "# around x = roll\n",
    "# around z = yaw\n",
    "\n",
    "# z = forward\n",
    "# y = down\n",
    "# x = left/right"
   ]
  },
  {
   "cell_type": "code",
   "execution_count": null,
   "metadata": {},
   "outputs": [],
   "source": [
    "grav = pd.read_csv('/Users/matthiaskargl/Codes/SLAM/sample_data/2024-11-09_15-06-37/Gravity.csv')\n",
    "fig = plt.figure()\n",
    "grav['z'].plot()\n",
    "grav['y'].plot()\n",
    "grav['x'].plot()\n",
    "\n",
    "fig.legend()\n"
   ]
  },
  {
   "cell_type": "code",
   "execution_count": null,
   "metadata": {},
   "outputs": [],
   "source": [
    "motion = pd.merge(ori, grav, on=['time','seconds_elapsed'],how='inner')\n",
    "motion.rename(columns={'x': 'ax','y': 'ay','z': 'az'}, inplace=True)\n",
    "motion"
   ]
  },
  {
   "cell_type": "code",
   "execution_count": null,
   "metadata": {},
   "outputs": [],
   "source": [
    "def euler_to_rotation_matrix(yaw, pitch, roll):\n",
    "    # Convert degrees to radians if necessary\n",
    "    #yaw = np.radians(yaw)\n",
    "    #pitch = np.radians(pitch)\n",
    "    #roll = np.radians(roll)\n",
    "\n",
    "    # Rotation matrices around each axis\n",
    "    R_yaw = np.array([[np.cos(yaw), -np.sin(yaw), 0],\n",
    "                      [np.sin(yaw), np.cos(yaw), 0],\n",
    "                      [0, 0, 1]])\n",
    "\n",
    "    R_pitch = np.array([[np.cos(pitch), 0, np.sin(pitch)],\n",
    "                        [0, 1, 0],\n",
    "                        [-np.sin(pitch), 0, np.cos(pitch)]])\n",
    "\n",
    "    R_roll = np.array([[1, 0, 0],\n",
    "                       [0, np.cos(roll), -np.sin(roll)],\n",
    "                       [0, np.sin(roll), np.cos(roll)]])\n",
    "\n",
    "    # Combined rotation matrix (R = R_yaw * R_pitch * R_roll)\n",
    "    R = R_yaw @ R_pitch @ R_roll\n",
    "    return R\n",
    "\n",
    "def transform_acceleration_to_global(ax,ay,az, yaw, pitch, roll):\n",
    "    R = euler_to_rotation_matrix(yaw, pitch, roll)\n",
    "    #print(R, np.array((ax,ay,az)).reshape(3,1))\n",
    "    global_accel = R @ np.array((ax,ay,az)).reshape(3,1)\n",
    "    return global_accel.flatten()\n",
    "\n",
    "motion[['global_ax', 'global_ay', 'global_az']] = motion.apply(\n",
    "    lambda row: transform_acceleration_to_global(row['ax'], row['ay'], row['az'],\n",
    "                                                  row['yaw'], row['pitch'], row['roll']),\n",
    "    axis=1,\n",
    "    result_type='expand'  # This allows us to expand the result into multiple columns\n",
    ")\n",
    "#compensate gravity\n",
    "#motion['global_ay'] += 9.80665\n"
   ]
  },
  {
   "cell_type": "code",
   "execution_count": null,
   "metadata": {},
   "outputs": [],
   "source": [
    "fig2 = plt.figure()\n",
    "motion['global_ax'].plot()\n",
    "motion['global_ay'].plot()\n",
    "motion['global_az'].plot()\n",
    "fig2.legend()\n",
    "\n",
    "#fig3 = plt.figure()\n",
    "#motion['yaw'].plot()\n",
    "#motion['roll'].plot()\n",
    "##motion['global_az'].plot()\n",
    "#fig3.legend()"
   ]
  },
  {
   "cell_type": "code",
   "execution_count": null,
   "metadata": {},
   "outputs": [],
   "source": [
    "motion['time_diff_s'] = motion['time'].diff().fillna(0) / 1e9\n",
    "motion['vx'] = (motion['global_ax']*motion['time_diff_s']).cumsum()\n",
    "motion['vy'] = (motion['global_ay']*motion['time_diff_s']).cumsum()\n",
    "motion['vz'] = (motion['global_az']*motion['time_diff_s']).cumsum()\n",
    "motion['x'] = (motion['global_ax']*motion['time_diff_s']*motion['time_diff_s']*0.5 + motion['vx']*motion['time_diff_s']).cumsum()\n",
    "motion['y'] = (motion['global_ay']*motion['time_diff_s']*motion['time_diff_s']*0.5 + motion['vy']*motion['time_diff_s']).cumsum()\n",
    "motion['z'] = (motion['global_az']*motion['time_diff_s']*motion['time_diff_s']*0.5 + motion['vz']*motion['time_diff_s']).cumsum()\n",
    "\n",
    "fig2 = plt.figure()\n",
    "motion['vz'].plot()\n",
    "motion['vy'].plot()\n",
    "motion['vx'].plot()\n",
    "fig2.legend()\n",
    "\n",
    "fig3 = plt.figure()\n",
    "motion['z'].plot()\n",
    "motion['y'].plot()\n",
    "motion['x'].plot()\n",
    "fig3.legend()"
   ]
  },
  {
   "cell_type": "markdown",
   "metadata": {},
   "source": [
    "# reconstruction with calibrated data"
   ]
  },
  {
   "cell_type": "code",
   "execution_count": null,
   "metadata": {},
   "outputs": [],
   "source": [
    "gyro = pd.read_csv('/Users/matthiaskargl/Codes/SLAM/sample_data/2024-11-09_15-06-37/Gyroscope.csv')\n",
    "gyro['time_diff_s'] = gyro['time'].diff().fillna(0) / 1e9\n",
    "gyro['roll'] = (gyro['x']*gyro['time_diff_s']).cumsum()\n",
    "gyro['pitch'] = (gyro['y']*gyro['time_diff_s']).cumsum()\n",
    "gyro['yaw'] = (gyro['z']*gyro['time_diff_s']).cumsum()\n",
    "gyro.drop(['x','y','z'],axis=1,inplace=True)\n",
    "\n",
    "acc = pd.read_csv('/Users/matthiaskargl/Codes/SLAM/sample_data/2024-11-09_15-06-37/Accelerometer.csv')\n",
    "\n",
    "motion = pd.merge(gyro, acc, on=['time','seconds_elapsed'],how='inner')\n",
    "motion.rename(columns={'x': 'ax','y': 'ay','z': 'az'}, inplace=True)\n",
    "motion"
   ]
  },
  {
   "cell_type": "code",
   "execution_count": null,
   "metadata": {},
   "outputs": [],
   "source": [
    "def euler_to_rotation_matrix(yaw, pitch, roll):\n",
    "    # Convert degrees to radians if necessary\n",
    "    #yaw = np.radians(yaw)\n",
    "    #pitch = np.radians(pitch)\n",
    "    #roll = np.radians(roll)\n",
    "\n",
    "    # Rotation matrices around each axis\n",
    "    R_yaw = np.array([[np.cos(yaw), -np.sin(yaw), 0],\n",
    "                      [np.sin(yaw), np.cos(yaw), 0],\n",
    "                      [0, 0, 1]])\n",
    "\n",
    "    R_pitch = np.array([[np.cos(pitch), 0, np.sin(pitch)],\n",
    "                        [0, 1, 0],\n",
    "                        [-np.sin(pitch), 0, np.cos(pitch)]])\n",
    "\n",
    "    R_roll = np.array([[1, 0, 0],\n",
    "                       [0, np.cos(roll), -np.sin(roll)],\n",
    "                       [0, np.sin(roll), np.cos(roll)]])\n",
    "\n",
    "    # Combined rotation matrix (R = R_yaw * R_pitch * R_roll)\n",
    "    R = R_yaw @ R_pitch @ R_roll\n",
    "    return R\n",
    "\n",
    "def transform_acceleration_to_global(ax,ay,az, yaw, pitch, roll):\n",
    "    R = euler_to_rotation_matrix(yaw, pitch, roll)\n",
    "    #print(R, np.array((ax,ay,az)).reshape(3,1))\n",
    "    global_accel = R @ np.array((ax,ay,az)).reshape(3,1)\n",
    "    return global_accel.flatten()\n",
    "\n",
    "motion[['global_ax', 'global_ay', 'global_az']] = motion.apply(\n",
    "    lambda row: transform_acceleration_to_global(row['ax'], row['ay'], row['az'],\n",
    "                                                  row['yaw'], \n",
    "                                                  row['pitch'], \n",
    "                                                  row['roll']\n",
    "                                                  ),\n",
    "    axis=1,\n",
    "    result_type='expand'  # This allows us to expand the result into multiple columns\n",
    ")\n",
    "#compensate gravity\n",
    "#motion['global_ay'] += 9.80665\n"
   ]
  },
  {
   "cell_type": "code",
   "execution_count": null,
   "metadata": {},
   "outputs": [],
   "source": [
    "motion['time_diff_s'] = motion['time'].diff().fillna(0) / 1e9\n",
    "motion['vx'] = (motion['global_ax']*motion['time_diff_s']).cumsum()\n",
    "motion['vy'] = (motion['global_ay']*motion['time_diff_s']).cumsum()\n",
    "motion['vz'] = (motion['global_az']*motion['time_diff_s']).cumsum()\n",
    "motion['x'] = (motion['global_ax']*motion['time_diff_s']*motion['time_diff_s']*0.5 + motion['vx']*motion['time_diff_s']).cumsum()\n",
    "motion['y'] = (motion['global_ay']*motion['time_diff_s']*motion['time_diff_s']*0.5 + motion['vy']*motion['time_diff_s']).cumsum()\n",
    "motion['z'] = (motion['global_az']*motion['time_diff_s']*motion['time_diff_s']*0.5 + motion['vz']*motion['time_diff_s']).cumsum()\n",
    "\n",
    "fig0 = plt.figure()\n",
    "motion['ax'].plot()\n",
    "motion['ay'].plot()\n",
    "motion['az'].plot()\n",
    "fig0.legend()\n",
    "\n",
    "fig1 = plt.figure()\n",
    "motion['global_ax'].plot()\n",
    "motion['global_ay'].plot()\n",
    "motion['global_az'].plot()\n",
    "fig1.legend()\n",
    "\n",
    "fig2 = plt.figure()\n",
    "motion['vz'].plot()\n",
    "motion['vy'].plot()\n",
    "motion['vx'].plot()\n",
    "fig2.legend()\n",
    "\n",
    "fig3 = plt.figure()\n",
    "motion['z'].plot()\n",
    "motion['y'].plot()\n",
    "motion['x'].plot()\n",
    "fig3.legend()"
   ]
  },
  {
   "cell_type": "markdown",
   "metadata": {},
   "source": [
    "# noise reduction via fourier transform"
   ]
  },
  {
   "cell_type": "code",
   "execution_count": null,
   "metadata": {},
   "outputs": [],
   "source": [
    "import numpy as np\n",
    "import matplotlib.pyplot as plt\n",
    "\n",
    "def denoiseFFT(signal, fs = 1000, cutoff_frequency = 60, plot=False):\n",
    "    # Apply FFT\n",
    "    fft_signal = np.fft.fft(signal)\n",
    "    frequencies = np.fft.fftfreq(motion.shape[0], 1/fs) \n",
    "\n",
    "    # Create a mask for filtering (e.g., remove frequencies above 60 Hz)\n",
    "    fft_signal[np.abs(frequencies) > cutoff_frequency] = 0  \n",
    "\n",
    "    # Inverse FFT to get the filtered signal\n",
    "    filtered_signal = np.fft.ifft(fft_signal)   \n",
    "\n",
    "    if plot:\n",
    "        plt.figure(figsize=(12, 6))\n",
    "        plt.subplot(3, 1, 1)\n",
    "        plt.title('Original Signal with Noise')\n",
    "        plt.plot(motion['ax'])\n",
    "        plt.subplot(3, 1, 2)\n",
    "        plt.title('Filtered Signal')\n",
    "        plt.plot(filtered_signal.real)  # Use .real since IFFT may produce complex numbers\n",
    "        plt.subplot(3, 1, 3)\n",
    "        plt.title('Frequencies')\n",
    "        plt.plot(fft_signal)  # Use .real since IFFT may produce complex numbers\n",
    "        plt.tight_layout()\n",
    "        plt.show()\n",
    "    \n",
    "    return filtered_signal.real\n",
    "\n",
    "denoiseFFT(motion['global_az'], 1000, 60, True)\n"
   ]
  },
  {
   "cell_type": "code",
   "execution_count": null,
   "metadata": {},
   "outputs": [],
   "source": []
  },
  {
   "cell_type": "markdown",
   "metadata": {},
   "source": [
    "# 3d trajectory"
   ]
  },
  {
   "cell_type": "code",
   "execution_count": null,
   "metadata": {},
   "outputs": [],
   "source": [
    "# Create a 3D plot\n",
    "fig = plt.figure(figsize=(10, 8))\n",
    "ax = fig.add_subplot(111, projection='3d')\n",
    "\n",
    "# Plot the trajectory\n",
    "ax.plot(motion['x'], motion['y'], motion['z'], label='Trajectory', color='b')\n",
    "ax.set_title('3D Trajectory Plot')\n",
    "ax.set_xlabel('X Position')\n",
    "ax.set_ylabel('Y Position')\n",
    "ax.set_zlabel('Z Position')\n",
    "ax.legend()\n",
    "\n",
    "# Show the plot\n",
    "plt.show()"
   ]
  },
  {
   "cell_type": "code",
   "execution_count": null,
   "metadata": {},
   "outputs": [],
   "source": [
    "# Create a scatter plot for the trajectory\n",
    "fig = go.Figure(data=[go.Scatter3d(\n",
    "    x=motion['x'],\n",
    "    y=motion['y'],\n",
    "    z=motion['z'],\n",
    "    mode='lines',\n",
    "    line=dict(color='blue', width=2),\n",
    ")])\n",
    "\n",
    "fig.update_layout(\n",
    "    title='3D Trajectory Plot with Grid',\n",
    "    scene=dict(\n",
    "        xaxis=dict(title='X Position', gridcolor='lightgray', showgrid=True),\n",
    "        yaxis=dict(title='Y Position', gridcolor='lightgray', showgrid=True),\n",
    "        zaxis=dict(title='Z Position', gridcolor='lightgray', showgrid=True),\n",
    "        aspectmode='cube'  # Optional: Keep the aspect ratio equal\n",
    "    ),\n",
    "    margin=dict(l=0, r=0, b=0, t=40)  # Adjust margins for better visibility\n",
    ")\n",
    "\n",
    "# Show the interactive plot\n",
    "fig.show()"
   ]
  },
  {
   "cell_type": "code",
   "execution_count": null,
   "metadata": {},
   "outputs": [],
   "source": []
  }
 ],
 "metadata": {
  "kernelspec": {
   "display_name": "base",
   "language": "python",
   "name": "python3"
  },
  "language_info": {
   "codemirror_mode": {
    "name": "ipython",
    "version": 3
   },
   "file_extension": ".py",
   "mimetype": "text/x-python",
   "name": "python",
   "nbconvert_exporter": "python",
   "pygments_lexer": "ipython3",
   "version": "3.11.5"
  }
 },
 "nbformat": 4,
 "nbformat_minor": 2
}
